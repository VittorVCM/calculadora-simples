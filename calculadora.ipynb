{
  "nbformat": 4,
  "nbformat_minor": 0,
  "metadata": {
    "colab": {
      "name": "Untitled2.ipynb",
      "provenance": [],
      "authorship_tag": "ABX9TyNAIWHgy0rsFqM65jodyRdY",
      "include_colab_link": true
    },
    "kernelspec": {
      "name": "python3",
      "display_name": "Python 3"
    },
    "language_info": {
      "name": "python"
    }
  },
  "cells": [
    {
      "cell_type": "markdown",
      "metadata": {
        "id": "view-in-github",
        "colab_type": "text"
      },
      "source": [
        "<a href=\"https://colab.research.google.com/github/VittorVCM/calculadora-simples/blob/main/calculadora.ipynb\" target=\"_parent\"><img src=\"https://colab.research.google.com/assets/colab-badge.svg\" alt=\"Open In Colab\"/></a>"
      ]
    },
    {
      "cell_type": "code",
      "metadata": {
        "id": "zGAt1_rOPCpw"
      },
      "source": [
        "#calculadora simples\n"
      ],
      "execution_count": null,
      "outputs": []
    },
    {
      "cell_type": "code",
      "metadata": {
        "id": "fUKxKO3iPU_a"
      },
      "source": [
        "#-------------------------------------------------------------------\n",
        "num1 = 0\n",
        "num2 = 0\n",
        "resultado = 0\n",
        "operacao = \"\"\n",
        "#-------------------------------------------------------------------\n",
        "\n",
        "#-------------------------------------------------------------------\n",
        "num1 = int(input(\"Digite um número : \"))\n",
        "operacao = input(\"Digite a operação : \")\n",
        "num2 = int(input(\"Digite um número : \"))\n",
        "#-------------------------------------------------------------------\n",
        "\n",
        "#-------------------------------------------------------------------\n",
        "if operacao == \"+\":\n",
        "  resultado = num1 + num2\n",
        "elif operacao == \"-\":\n",
        "  resultado = num1 - num2\n",
        "elif operacao == \"/\":\n",
        "  resultado = num1 / num2\n",
        "elif operacao == \"*\":\n",
        "  resultado = num1 * num2\n",
        "else:\n",
        "  resultado = \"Operação invalida\"\n",
        "#-------------------------------------------------------------------\n",
        "\n",
        "#-------------------------------------------------------------------\n",
        "print(f\"resultado {num1} {operacao} {num2} = {resultado}\")\n",
        "#-------------------------------------------------------------------"
      ],
      "execution_count": null,
      "outputs": []
    }
  ]
}